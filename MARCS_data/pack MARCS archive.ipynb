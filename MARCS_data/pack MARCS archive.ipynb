{
 "cells": [
  {
   "cell_type": "code",
   "execution_count": 3,
   "id": "c4992ffc-b670-4ea5-9f79-6f3c349194b6",
   "metadata": {},
   "outputs": [],
   "source": [
    "using Korg, ProgressMeter, HDF5, PyPlot"
   ]
  },
  {
   "cell_type": "code",
   "execution_count": 2,
   "id": "60db0480-eae7-4b9c-85a1-047684abd821",
   "metadata": {},
   "outputs": [
    {
     "data": {
      "text/plain": [
       "\"SDSS_MARCS_atmospheres.h5\""
      ]
     },
     "execution_count": 2,
     "metadata": {},
     "output_type": "execute_result"
    }
   ],
   "source": [
    "atmosphere_archive = \"SDSS_MARCS_atmospheres.h5\""
   ]
  },
  {
   "cell_type": "code",
   "execution_count": 4,
   "id": "95009282-9e18-418d-83c9-c300737fe794",
   "metadata": {},
   "outputs": [],
   "source": [
    "atm_dir = \"/uufs/chpc.utah.edu/common/home/sdss50/dr17/apogee/spectro/speclib/atmos/marcs/MARCS_v3_2016\"\n",
    "subdirs = [\"mod_z+0.00\" ,\"mod_z+0.25\" ,\"mod_z-0.25\" ,\"mod_z+0.50\" ,\"mod_z-0.50\" ,\"mod_z+0.75\" ,\"mod_z-0.75\" ,\"mod_z+1.00\" ,\"mod_z-1.00\" ,\"mod_z-1.25\" ,\"mod_z-1.50\" ,\"mod_z-1.75\" ,\"mod_z-2.00\" ,\"mod_z-2.25\" ,\"mod_z-2.50\"]\n",
    "#subdirs = [\"mod_z+0.00\"]\n",
    ";"
   ]
  },
  {
   "cell_type": "code",
   "execution_count": 6,
   "id": "d5a5146e-b598-49b9-bfb4-5a5a8ba2d3cf",
   "metadata": {
    "tags": []
   },
   "outputs": [
    {
     "ename": "LoadError",
     "evalue": "KeyError: key \"version\" not found",
     "output_type": "error",
     "traceback": [
      "KeyError: key \"version\" not found",
      "",
      "Stacktrace:",
      "  [1] getindex(parent::HDF5.File, path::String; pv::Base.Pairs{Symbol, Union{}, Tuple{}, NamedTuple{(), Tuple{}}})",
      "    @ HDF5 ~/.julia/packages/HDF5/NqGY2/src/highlevel.jl:63",
      "  [2] getindex(parent::HDF5.File, path::String)",
      "    @ HDF5 ~/.julia/packages/HDF5/NqGY2/src/highlevel.jl:62",
      "  [3] (::var\"#7#8\")(h::HDF5.File)",
      "    @ Main ./In[6]:2",
      "  [4] (::HDF5.var\"#17#18\"{HDF5.HDF5Context, Base.Pairs{Symbol, Union{}, Tuple{}, NamedTuple{(), Tuple{}}}, var\"#7#8\", HDF5.File})()",
      "    @ HDF5 ~/.julia/packages/HDF5/NqGY2/src/file.jl:96",
      "  [5] task_local_storage(body::HDF5.var\"#17#18\"{HDF5.HDF5Context, Base.Pairs{Symbol, Union{}, Tuple{}, NamedTuple{(), Tuple{}}}, var\"#7#8\", HDF5.File}, key::Symbol, val::HDF5.HDF5Context)",
      "    @ Base ./task.jl:292",
      "  [6] h5open(::var\"#7#8\", ::String, ::Vararg{String}; context::HDF5.HDF5Context, pv::Base.Pairs{Symbol, Union{}, Tuple{}, NamedTuple{(), Tuple{}}})",
      "    @ HDF5 ~/.julia/packages/HDF5/NqGY2/src/file.jl:91",
      "  [7] h5open(::Function, ::String, ::String)",
      "    @ HDF5 ~/.julia/packages/HDF5/NqGY2/src/file.jl:89",
      "  [8] top-level scope",
      "    @ In[6]:1",
      "  [9] eval",
      "    @ ./boot.jl:368 [inlined]",
      " [10] include_string(mapexpr::typeof(REPL.softscope), mod::Module, code::String, filename::String)",
      "    @ Base ./loading.jl:1428"
     ]
    }
   ],
   "source": [
    "h5open(\"SDSS_MARCS_atmospheres.h5\", \"r+\") do h\n",
    "    println(read_attribute(h[\"version\"]))\n",
    "end"
   ]
  },
  {
   "cell_type": "markdown",
   "id": "9adcb84a-549b-4ed2-a2e6-ec6a42516545",
   "metadata": {
    "jp-MarkdownHeadingCollapsed": true,
    "tags": []
   },
   "source": [
    "# old: pack with separation between spherical and planar "
   ]
  },
  {
   "cell_type": "code",
   "execution_count": 15,
   "id": "8daa735e-89eb-4cd8-b160-94dcc31aed47",
   "metadata": {
    "tags": []
   },
   "outputs": [
    {
     "name": "stdout",
     "output_type": "stream",
     "text": [
      "determining node values...\n"
     ]
    },
    {
     "name": "stderr",
     "output_type": "stream",
     "text": [
      "\u001b[32mProgress: 100%|█████████████████████████████████████████| Time: 0:00:13\u001b[39m\n"
     ]
    },
    {
     "name": "stdout",
     "output_type": "stream",
     "text": [
      "loading and packing atmospheres...\n"
     ]
    },
    {
     "name": "stderr",
     "output_type": "stream",
     "text": [
      "\u001b[32mProgress: 100%|█████████████████████████████████████████| Time: 0:07:01\u001b[39m\n"
     ]
    }
   ],
   "source": [
    "#this order is different and important\n",
    "interpolation_params = [\"Teff\", \"logg\", \"metallicity\", \"alpha\", \"carbon\"]\n",
    "#filename_regex = r\"^([ps])(.*)_g(.*)_m(.*)_t(.*)_..?_z(.*)_a(.*)_c(.*)_n(.*)_o(.*)_r(.*)_s(.*).mod(.filled)?$\"\n",
    "filename_regex = r\"^([ps])(.*)_g(.*)_m(.*)_t(.*)_..?_z(.*)_a(.*)_c(.*)_n(.*)_o(.*)_r(.*)_s(.*).mod$\"\n",
    "capture_inds = [2, 3, 6, 7, 8]\n",
    "\n",
    "h5open(atmosphere_archive, \"w\") do h\n",
    "    h[\"grid_parameter_names\"] = interpolation_params\n",
    "    \n",
    "    #first get the set of all possible values\n",
    "    all_vals_spherical = [[] for p in interpolation_params]\n",
    "    all_vals_planar = [[] for p in interpolation_params]\n",
    "    println(\"determining node values...\")\n",
    "    @showprogress for subdir in subdirs, filename in readdir(joinpath(atm_dir, subdir))\n",
    "        m = match(filename_regex, filename)\n",
    "        if !isnothing(m)\n",
    "            vals = m.captures[capture_inds]\n",
    "            if m.captures[1] == \"s\"\n",
    "                push!.(all_vals_spherical, vals)\n",
    "            else\n",
    "                push!.(all_vals_planar, vals)\n",
    "            end\n",
    "        end\n",
    "    end\n",
    "    grid_vals_spherical = [sort(parse.(Float32, (collect(Set(vals))))) for vals in all_vals_spherical]\n",
    "    grid_vals_planar = [sort(parse.(Float32, (collect(Set(vals))))) for vals in all_vals_planar]\n",
    "    for i in eachindex(interpolation_params)\n",
    "        h[\"spherical/grid_values/$i\"] = grid_vals_spherical[i]\n",
    "        h[\"planar/grid_values/$i\"] =  grid_vals_planar[i]\n",
    "    end\n",
    "    \n",
    "    spherical_exists = zeros(Bool, Tuple(length.(grid_vals_spherical)))\n",
    "    spherical_grid = zeros(Float32, (56, 5, length.(grid_vals_spherical)...))\n",
    "    R_grid = zeros(Float32, Tuple(length.(grid_vals_spherical)))\n",
    "    planar_exists = zeros(Bool, Tuple(length.(grid_vals_planar)))\n",
    "    planar_grid = zeros(Float32, (56, 5, length.(grid_vals_planar)...))\n",
    "    \n",
    "    println(\"loading and packing atmospheres...\")\n",
    "    @showprogress for subdir in subdirs, filename in readdir(joinpath(atm_dir, subdir))\n",
    "        m = match(filename_regex, filename)\n",
    "        isnothing(m) && continue #skip if it's not a standard composition .mod file\n",
    "        if !(m.captures[4] in [\"1.0\", \"0.0\"])\n",
    "            continue #skip if mass != 1\n",
    "        end\n",
    "        \n",
    "        atm = read_model_atmosphere(joinpath(atm_dir, subdir, filename))\n",
    "       \n",
    "        vals = parse.(Float32, m.captures[capture_inds])\n",
    "        grid, exists, grid_vals = if m.captures[1] == \"s\" \n",
    "            spherical_grid, spherical_exists, grid_vals_spherical\n",
    "        else\n",
    "            planar_grid, planar_exists, grid_vals_planar\n",
    "        end\n",
    "        inds = [findfirst(v .== gv) for (v, gv) in zip(vals, grid_vals)]\n",
    "        m.captures[1] == \"s\" && (R_grid[inds...] = atm.R)\n",
    "        exists[inds...] = true\n",
    "        grid[:, 1, inds...] = [l.temp for l in atm.layers]\n",
    "        grid[:, 2, inds...] = [log(l.electron_number_density) for l in atm.layers]\n",
    "        grid[:, 3, inds...] = [log(l.number_density) for l in atm.layers]\n",
    "        grid[:, 4, inds...] = [l.tau_5000 for l in atm.layers]\n",
    "        grid[:, 5, inds...] = [asinh(l.z) for l in atm.layers]\n",
    "    end\n",
    "    \n",
    "    h[\"spherical/exists\"] = spherical_exists\n",
    "    h[\"spherical/grid\", shuffle=(), deflate=9] = spherical_grid\n",
    "    h[\"spherical/R_grid\", shuffle=(), deflate=9] = R_grid\n",
    "    h[\"planar/exists\"] = planar_exists\n",
    "    h[\"planar/grid\", shuffle=(), deflate=9] = planar_grid\n",
    "    \n",
    "    ;\n",
    "end\n",
    ";"
   ]
  },
  {
   "cell_type": "code",
   "execution_count": 29,
   "id": "103c59d5-0da9-4a90-95b6-f845aa654149",
   "metadata": {},
   "outputs": [],
   "source": [
    "spherical_exists, spherical_nodes, planar_exists, planar_nodes = h5open(atmosphere_archive) do h\n",
    "    read(h[\"spherical/exists\"]), read(h[\"spherical/grid_values\"]), read(h[\"planar/exists\"]), read(h[\"planar/grid_values\"])\n",
    "end\n",
    "spherical_nodes = [spherical_nodes[string(i)] for i in 1:length(spherical_nodes)]\n",
    "planar_nodes = [planar_nodes[string(i)] for i in 1:length(planar_nodes)]\n",
    ";"
   ]
  },
  {
   "cell_type": "markdown",
   "id": "9445bf48-8682-4045-a07a-90f70e2caadd",
   "metadata": {},
   "source": [
    "# new: pack planar and spherical together"
   ]
  },
  {
   "cell_type": "code",
   "execution_count": null,
   "id": "d37e32ad-2b2e-425a-8f01-57f2d0adbbb6",
   "metadata": {
    "tags": []
   },
   "outputs": [
    {
     "name": "stdout",
     "output_type": "stream",
     "text": [
      "determining node values...\n"
     ]
    },
    {
     "name": "stderr",
     "output_type": "stream",
     "text": [
      "\u001b[32mProgress: 100%|█████████████████████████████████████████| Time: 0:00:10\u001b[39m\n"
     ]
    },
    {
     "name": "stdout",
     "output_type": "stream",
     "text": [
      "loading and packing atmospheres...\n"
     ]
    },
    {
     "name": "stderr",
     "output_type": "stream",
     "text": [
      "\u001b[32mProgress:  60%|████████████████████████▋                |  ETA: 0:02:46\u001b[39m"
     ]
    }
   ],
   "source": [
    "#this order is different and important\n",
    "interpolation_params = [\"Teff\", \"logg\", \"metallicity\", \"alpha\", \"carbon\"]\n",
    "filename_regex = r\"^([ps])(.*)_g(.*)_m(.*)_t(.*)_..?_z(.*)_a(.*)_c(.*)_n(.*)_o(.*)_r(.*)_s(.*).mod(.filled)?$\"\n",
    "#filename_regex = r\"^([ps])(.*)_g(.*)_m(.*)_t(.*)_..?_z(.*)_a(.*)_c(.*)_n(.*)_o(.*)_r(.*)_s(.*).mod$\"\n",
    "capture_inds = [2, 3, 6, 7, 8]\n",
    "\n",
    "h5open(atmosphere_archive, \"w\") do h\n",
    "    h[\"grid_parameter_names\"] = interpolation_params\n",
    "    \n",
    "    #first get the set of all possible values\n",
    "    all_vals = [[] for p in interpolation_params]\n",
    "    println(\"determining node values...\")\n",
    "    @showprogress for subdir in subdirs, filename in readdir(joinpath(atm_dir, subdir))\n",
    "        m = match(filename_regex, filename)\n",
    "        if !isnothing(m)\n",
    "            vals = m.captures[capture_inds]\n",
    "            push!.(all_vals, vals)\n",
    "        end\n",
    "    end\n",
    "    grid_vals = [sort(parse.(Float32, (collect(Set(vals))))) for vals in all_vals]\n",
    "    for i in eachindex(interpolation_params)\n",
    "        h[\"grid_values/$i\"] = grid_vals[i]\n",
    "    end\n",
    "    \n",
    "    exists = zeros(Bool, Tuple(length.(grid_vals)))\n",
    "    grid = zeros(Float32, (56, 5, length.(grid_vals)...))\n",
    "    \n",
    "    println(\"loading and packing atmospheres...\")\n",
    "    @showprogress for subdir in subdirs, filename in readdir(joinpath(atm_dir, subdir))\n",
    "        m = match(filename_regex, filename)\n",
    "        isnothing(m) && continue #skip if it's not a standard composition .mod file\n",
    "        if !(m.captures[4] in [\"1.0\", \"0.0\"])\n",
    "            continue #skip if mass != 1\n",
    "        end\n",
    "        \n",
    "        atm = read_model_atmosphere(joinpath(atm_dir, subdir, filename))\n",
    "       \n",
    "        vals = parse.(Float32, m.captures[capture_inds])\n",
    "        inds = [findfirst(v .== gv) for (v, gv) in zip(vals, grid_vals)]\n",
    "        exists[inds...] = true\n",
    "        grid[:, 1, inds...] = [l.temp for l in atm.layers]\n",
    "        grid[:, 2, inds...] = [log(l.electron_number_density) for l in atm.layers]\n",
    "        grid[:, 3, inds...] = [log(l.number_density) for l in atm.layers]\n",
    "        grid[:, 4, inds...] = [l.tau_5000 for l in atm.layers]\n",
    "        grid[:, 5, inds...] = [asinh(l.z) for l in atm.layers]\n",
    "    end\n",
    "    \n",
    "    h[\"exists\"] = exists\n",
    "    h[\"grid\", shuffle=(), deflate=9] = grid\n",
    "end\n",
    ";"
   ]
  },
  {
   "cell_type": "code",
   "execution_count": 8,
   "id": "e6192bc2-1842-4f7e-b00c-fd0765c97d91",
   "metadata": {},
   "outputs": [
    {
     "data": {
      "text/plain": [
       "579150"
      ]
     },
     "metadata": {},
     "output_type": "display_data"
    }
   ],
   "source": [
    "h5open(atmosphere_archive) do h\n",
    "    display(sum(read(h[\"exists\"])))\n",
    "end"
   ]
  },
  {
   "cell_type": "code",
   "execution_count": 16,
   "id": "e22e08d4-6694-48c4-8f25-9079c9acc53f",
   "metadata": {},
   "outputs": [
    {
     "data": {
      "text/plain": [
       "470539"
      ]
     },
     "metadata": {},
     "output_type": "display_data"
    }
   ],
   "source": [
    "h5open(atmosphere_archive) do h\n",
    "    display(sum(read(h[\"exists\"])))\n",
    "end"
   ]
  },
  {
   "cell_type": "code",
   "execution_count": 29,
   "id": "5c9e8e63-4472-4d89-8d22-ff84a843b165",
   "metadata": {},
   "outputs": [],
   "source": [
    "exists, nodes = h5open(atmosphere_archive) do h\n",
    "    read(h[\"spherical/exists\"]), read(h[\"spherical/grid_values\"]), read(h[\"planar/exists\"]), read(h[\"planar/grid_values\"])\n",
    "end\n",
    "spherical_nodes = [spherical_nodes[string(i)] for i in 1:length(spherical_nodes)]\n",
    "planar_nodes = [planar_nodes[string(i)] for i in 1:length(planar_nodes)]\n",
    ";"
   ]
  },
  {
   "cell_type": "code",
   "execution_count": 7,
   "id": "5c769ffb-d819-4240-99d0-7b121175aefb",
   "metadata": {},
   "outputs": [
    {
     "ename": "LoadError",
     "evalue": "UndefVarError: exists not defined",
     "output_type": "error",
     "traceback": [
      "UndefVarError: exists not defined",
      "",
      "Stacktrace:",
      " [1] top-level scope",
      "   @ ./In[7]:10",
      " [2] eval",
      "   @ ./boot.jl:368 [inlined]",
      " [3] include_string(mapexpr::typeof(REPL.softscope), mod::Module, code::String, filename::String)",
      "   @ Base ./loading.jl:1428"
     ]
    }
   ],
   "source": [
    "axs = subplots(nrows=5, ncols=5, figsize=(15,15))[2]\n",
    "[ax.set_visible(false) for ax in axs]\n",
    "\n",
    "names = [\"teff\", \"logg\", \"[Fe/H]\", \"[α/H]\", \"[C/H]\"]\n",
    "\n",
    "#for (exists, nodes) in [(spherical_exists, spherical_nodes), (planar_exists, planar_nodes)]\n",
    "#let exists=spherical_exists, nodes=spherical_nodes\n",
    "#let exists=planar_exists, nodes=planar_nodes\n",
    "rows = []\n",
    "for I in CartesianIndices(exists)\n",
    "    if exists[I]\n",
    "        push!(rows, getindex.(nodes, collect(Tuple(I))))\n",
    "    end\n",
    "end\n",
    "\n",
    "M = vcat(transpose.(rows)...)\n",
    "\n",
    "for i in 1:length(names), j in 1:i-1\n",
    "    sca(axs[i,j])\n",
    "    gca().set_visible(true)\n",
    "    scatter(M[:, j], M[:, i], color=\"k\", s=1)\n",
    "    ylabel(names[i])\n",
    "    xlabel(names[j])\n",
    "end\n",
    "\n",
    "tight_layout()"
   ]
  },
  {
   "cell_type": "code",
   "execution_count": null,
   "id": "c85ec85f-49f6-4059-b678-077ff0b02d1a",
   "metadata": {},
   "outputs": [],
   "source": []
  }
 ],
 "metadata": {
  "kernelspec": {
   "display_name": "Julia 1.8.2",
   "language": "julia",
   "name": "julia-1.8"
  },
  "language_info": {
   "file_extension": ".jl",
   "mimetype": "application/julia",
   "name": "julia",
   "version": "1.8.2"
  }
 },
 "nbformat": 4,
 "nbformat_minor": 5
}
